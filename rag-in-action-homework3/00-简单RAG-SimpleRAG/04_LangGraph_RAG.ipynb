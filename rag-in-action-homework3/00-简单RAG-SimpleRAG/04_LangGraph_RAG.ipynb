{
 "cells": [
  {
   "cell_type": "code",
   "execution_count": 1,
   "id": "1fefeded-cf10-4a60-b969-cb7c120b0052",
   "metadata": {},
   "outputs": [
    {
     "name": "stderr",
     "output_type": "stream",
     "text": [
      "USER_AGENT environment variable not set, consider setting it to identify your requests.\n"
     ]
    }
   ],
   "source": [
    "# 1. 加载文档\n",
    "from langchain_community.document_loaders import WebBaseLoader\n",
    "loader = WebBaseLoader(\n",
    "    web_paths=(\"https://zh.wikipedia.org/wiki/黑神话：悟空\",)\n",
    ")\n",
    "docs = loader.load()"
   ]
  },
  {
   "cell_type": "code",
   "execution_count": 2,
   "id": "046fb560-4ec0-4b25-92a2-a091b103d0ae",
   "metadata": {},
   "outputs": [],
   "source": [
    "# 2. 文档分块\n",
    "from langchain_text_splitters import RecursiveCharacterTextSplitter\n",
    "text_splitter = RecursiveCharacterTextSplitter(chunk_size=1000, chunk_overlap=200)\n",
    "all_splits = text_splitter.split_documents(docs)"
   ]
  },
  {
   "cell_type": "code",
   "execution_count": 3,
   "id": "e4e82774-268d-4549-906a-8447d310846d",
   "metadata": {},
   "outputs": [
    {
     "name": "stderr",
     "output_type": "stream",
     "text": [
      "c:\\Users\\huangj2\\Documents\\Venv\\langchain_250321\\Lib\\site-packages\\tqdm\\auto.py:21: TqdmWarning: IProgress not found. Please update jupyter and ipywidgets. See https://ipywidgets.readthedocs.io/en/stable/user_install.html\n",
      "  from .autonotebook import tqdm as notebook_tqdm\n"
     ]
    }
   ],
   "source": [
    "# 3. 设置嵌入模型\n",
    "from langchain_huggingface import HuggingFaceEmbeddings\n",
    "embeddings = HuggingFaceEmbeddings(\n",
    "    model_name=\"BAAI/bge-small-zh-v1.5\",\n",
    "    model_kwargs={'device': 'cpu'},\n",
    "    encode_kwargs={'normalize_embeddings': True}\n",
    ")"
   ]
  },
  {
   "cell_type": "code",
   "execution_count": 4,
   "id": "d5d8cb6e-286f-4e86-94a3-0ce0bc3d812d",
   "metadata": {},
   "outputs": [
    {
     "data": {
      "text/plain": [
       "['604669d1-40eb-4a62-9584-e973179bffdd',\n",
       " '5ef199b6-3764-48a9-aaa9-8631c332dd79',\n",
       " '105c0f5c-48fd-4f08-a4fb-7798dbbad476',\n",
       " 'ceb97d36-c737-4311-bd0b-73e1551f2023',\n",
       " '639620ef-eb56-4ff2-a1ba-c6b94da1dafe',\n",
       " '331148e2-5f88-4938-866a-1b25c71a3331',\n",
       " 'a56dbfef-983a-4067-9d35-96f936676c9f',\n",
       " 'e77501a8-f91b-4a5a-a461-be92666fa9b8',\n",
       " 'b0771461-eddc-4a96-a338-2dcc6cf61e6c',\n",
       " '05e64899-c094-4de6-9e45-9f607a198aea',\n",
       " '35c28dbc-04d3-4708-8283-91f00416709c',\n",
       " 'bf110bbf-8350-44e1-abcc-0949cef94ab2',\n",
       " '77b227ab-580b-4921-ad21-10650f6fed41',\n",
       " '5feea8e3-baf4-4f1a-ab58-9067c0747106',\n",
       " '9fec31c1-b267-4f9d-8f44-8c803e14f325',\n",
       " 'f45ce91f-9bd5-4c0c-9eed-c90ed79e4e0e',\n",
       " '306eda04-b798-41a3-aa54-a53be73e53a5',\n",
       " '49bd7b4e-c51f-4fcb-b370-3297b4dd5b20',\n",
       " 'd88fc80b-f89c-4277-8b7f-b8a2b5430986',\n",
       " '16fc58cd-75ed-4529-b7ae-a7bb08825159',\n",
       " '44a1f23e-8fa1-435d-9031-40038362ee9d',\n",
       " 'f507dc8f-bf14-4fc7-abc3-71531eec82cc',\n",
       " '7203a50e-6efd-41cb-a6b0-ed23fd11cf37',\n",
       " '8a43eb83-6501-4c8d-9c77-95e72858206a',\n",
       " '33ceeb43-e1dd-451f-987f-e3bd85052f47',\n",
       " '18dc2566-8684-4955-b009-e6f977cf381b',\n",
       " '4d66af7c-d128-4d51-8dc7-1c48707a6490',\n",
       " '3bb3acdd-e4d7-445e-b14c-f38f48aa1670',\n",
       " '62e35c0d-3420-4d1c-bc32-0a876cb118ce',\n",
       " 'b09a743f-4242-498b-8ae8-a896d7814fb1',\n",
       " '15825ef8-28b4-4ada-bc0d-f479fe0a1140',\n",
       " '763b2243-adc2-44f7-b1f4-812d04785e22',\n",
       " '5fde3111-4154-4a31-880a-f666ead15ecd',\n",
       " '4ec34196-73e0-4cc9-b11c-e6617833615f',\n",
       " '818d1d66-155d-4ceb-a879-80f131be1a7d',\n",
       " 'e28713fa-d311-4db2-8577-412faf3d5fdd']"
      ]
     },
     "execution_count": 4,
     "metadata": {},
     "output_type": "execute_result"
    }
   ],
   "source": [
    "# 4. 创建向量存储\n",
    "from langchain_core.vectorstores import InMemoryVectorStore\n",
    "vector_store = InMemoryVectorStore(embeddings)\n",
    "vector_store.add_documents(all_splits)"
   ]
  },
  {
   "cell_type": "code",
   "execution_count": 5,
   "id": "5174db19-f845-4e7e-a86c-00c1eadf1bd9",
   "metadata": {},
   "outputs": [
    {
     "name": "stderr",
     "output_type": "stream",
     "text": [
      "c:\\Users\\huangj2\\Documents\\Venv\\langchain_250321\\Lib\\site-packages\\langsmith\\client.py:277: LangSmithMissingAPIKeyWarning: API key must be provided when using hosted LangSmith API\n",
      "  warnings.warn(\n"
     ]
    }
   ],
   "source": [
    "# 5. 定义RAG提示词\n",
    "from langchain import hub\n",
    "prompt = hub.pull(\"rlm/rag-prompt\")"
   ]
  },
  {
   "cell_type": "code",
   "execution_count": 6,
   "id": "97f96b94-a43a-4737-aa90-c0c24ed337c7",
   "metadata": {},
   "outputs": [],
   "source": [
    "# 6. 定义应用状态\n",
    "from typing import List\n",
    "from typing_extensions import TypedDict\n",
    "from langchain_core.documents import Document\n",
    "class State(TypedDict):\n",
    "    question: str\n",
    "    context: List[Document]\n",
    "    answer: str"
   ]
  },
  {
   "cell_type": "code",
   "execution_count": 7,
   "id": "d07b5a8e-7592-4135-a1ca-51f3ca71c91e",
   "metadata": {},
   "outputs": [],
   "source": [
    "# 7. 定义检索步骤\n",
    "def retrieve(state: State):\n",
    "    retrieved_docs = vector_store.similarity_search(state[\"question\"])\n",
    "    return {\"context\": retrieved_docs}"
   ]
  },
  {
   "cell_type": "code",
   "execution_count": 8,
   "id": "22a62256-00e4-464e-8cee-46559757bcd9",
   "metadata": {},
   "outputs": [],
   "source": [
    "# 8. 定义生成步骤\n",
    "def generate(state: State):\n",
    "    from langchain_openai import ChatOpenAI\n",
    "    llm = ChatOpenAI(model=\"gpt-4\")\n",
    "    docs_content = \"\\n\\n\".join(doc.page_content for doc in state[\"context\"])\n",
    "    messages = prompt.invoke({\"question\": state[\"question\"], \"context\": docs_content})\n",
    "    response = llm.invoke(messages)\n",
    "    return {\"answer\": response.content}"
   ]
  },
  {
   "cell_type": "code",
   "execution_count": 9,
   "id": "d4e808fc-5110-4488-bce0-03af79564b49",
   "metadata": {},
   "outputs": [
    {
     "data": {
      "image/png": "[encoded data removed]",
      "text/plain": [
       "<IPython.core.display.Image object>"
      ]
     },
     "metadata": {},
     "output_type": "display_data"
    }
   ],
   "source": [
    "# 9. 构建和编译应用\n",
    "from langgraph.graph import START, StateGraph\n",
    "graph = (\n",
    "    StateGraph(State)\n",
    "    .add_sequence([retrieve, generate])\n",
    "    .add_edge(START, \"retrieve\")\n",
    "    .compile()\n",
    ")\n",
    "\n",
    "# 显示图结构\n",
    "from IPython.display import Image, display\n",
    "from langchain_core.runnables.graph import CurveStyle, MermaidDrawMethod, NodeStyles\n",
    "\n",
    "display(\n",
    "    Image(\n",
    "        graph.get_graph().draw_mermaid_png(\n",
    "            draw_method=MermaidDrawMethod.API,\n",
    "        )\n",
    "    )\n",
    ")"
   ]
  },
  {
   "cell_type": "code",
   "execution_count": 10,
   "id": "ba5cf622-3fdc-4090-a2f8-355ac5b728e5",
   "metadata": {},
   "outputs": [
    {
     "name": "stdout",
     "output_type": "stream",
     "text": [
      "\n",
      "问题: 黑悟空有哪些游戏场景？\n",
      "答案: 《黑神话：悟空》的游戏场景中融合了很多中国的文化和自然地标，比如重慶的大足石刻、山西省的小西天、南禅寺、铁佛寺、广胜寺和鹳雀楼等。游戏的故事发生在《西游记》之后，玩家在游戏中需要探索并通过一系列的冒险任务，寻找遗失根器并尝试复活孙悟空。游戏的篇章设定为六个章节，分别为“火照黑云”、“风起黄昏”、“夜生白露”、“曲度紫鸳”、“日落红尘”和“未竟”。\n"
     ]
    }
   ],
   "source": [
    "# 10. 运行查询\n",
    "question = \"黑悟空有哪些游戏场景？\"\n",
    "response = graph.invoke({\"question\": question})\n",
    "print(f\"\\n问题: {question}\")\n",
    "print(f\"答案: {response['answer']}\")"
   ]
  },
  {
   "cell_type": "code",
   "execution_count": null,
   "id": "7b701ed9-2058-4909-94f9-a308ed524df5",
   "metadata": {},
   "outputs": [],
   "source": []
  }
 ],
 "metadata": {
  "kernelspec": {
   "display_name": "langchain_250321",
   "language": "python",
   "name": "python3"
  },
  "language_info": {
   "codemirror_mode": {
    "name": "ipython",
    "version": 3
   },
   "file_extension": ".py",
   "mimetype": "text/x-python",
   "name": "python",
   "nbconvert_exporter": "python",
   "pygments_lexer": "ipython3",
   "version": "3.12.9"
  }
 },
 "nbformat": 4,
 "nbformat_minor": 5
}
